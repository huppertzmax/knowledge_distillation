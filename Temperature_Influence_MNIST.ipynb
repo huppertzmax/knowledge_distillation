{
 "cells": [
  {
   "cell_type": "markdown",
   "id": "e7759931",
   "metadata": {},
   "source": [
    "## Influence of Temperature on the output of a NN trained on MNIST"
   ]
  },
  {
   "cell_type": "code",
   "execution_count": 12,
   "id": "2df275a5",
   "metadata": {},
   "outputs": [
    {
     "data": {
      "image/png": "[encoded data removed]",
      "text/plain": [
       "<Figure size 640x480 with 1 Axes>"
      ]
     },
     "metadata": {},
     "output_type": "display_data"
    },
    {
     "name": "stdout",
     "output_type": "stream",
     "text": [
      "3\n"
     ]
    }
   ],
   "source": [
    "%matplotlib inline\n",
    "import matplotlib.pyplot as plt\n",
    "from tensorflow.keras.datasets import mnist\n",
    "from tensorflow.keras.utils import to_categorical\n",
    "\n",
    "(x_train, y_train),(x_test, y_test) = mnist.load_data()\n",
    "\n",
    "#example input which later be used to determine the influence \n",
    "plt.imshow(x_test[18], cmap=\"gray_r\")\n",
    "plt.show()\n",
    "print(y_test[18])\n",
    "\n",
    "\n",
    "#preparation of the training and test data \n",
    "x_train = x_train.astype(\"float32\")/255.\n",
    "x_train = x_train.reshape(-1, 784)\n",
    "x_test = x_test.astype(\"float32\")/255.\n",
    "x_test = x_test.reshape(-1, 784)\n",
    "\n",
    "y_train = to_categorical(y_train)\n",
    "y_test = to_categorical(y_test)"
   ]
  },
  {
   "cell_type": "code",
   "execution_count": 13,
   "id": "d9cece2b",
   "metadata": {},
   "outputs": [],
   "source": [
    "from tensorflow.keras.models import Sequential\n",
    "from tensorflow.keras.layers import Dense \n",
    "from tensorflow.keras import layers\n",
    "from tensorflow.keras import activations"
   ]
  },
  {
   "cell_type": "code",
   "execution_count": 14,
   "id": "8b0058ca",
   "metadata": {},
   "outputs": [
    {
     "name": "stdout",
     "output_type": "stream",
     "text": [
      "Model: \"sequential_1\"\n",
      "_________________________________________________________________\n",
      " Layer (type)                Output Shape              Param #   \n",
      "=================================================================\n",
      " dense_4 (Dense)             (None, 200)               157000    \n",
      "                                                                 \n",
      " dense_5 (Dense)             (None, 300)               60300     \n",
      "                                                                 \n",
      " dense_6 (Dense)             (None, 100)               30100     \n",
      "                                                                 \n",
      " dense_7 (Dense)             (None, 10)                1010      \n",
      "                                                                 \n",
      " activation_1 (Activation)   (None, 10)                0         \n",
      "                                                                 \n",
      "=================================================================\n",
      "Total params: 248,410\n",
      "Trainable params: 248,410\n",
      "Non-trainable params: 0\n",
      "_________________________________________________________________\n",
      "Epoch 1/15\n",
      "60/60 [==============================] - 1s 9ms/step - loss: 0.6508 - accuracy: 0.8041\n",
      "Epoch 2/15\n",
      "60/60 [==============================] - 1s 9ms/step - loss: 0.2611 - accuracy: 0.9207\n",
      "Epoch 3/15\n",
      "60/60 [==============================] - 1s 9ms/step - loss: 0.1787 - accuracy: 0.9464\n",
      "Epoch 4/15\n",
      "60/60 [==============================] - 1s 9ms/step - loss: 0.1320 - accuracy: 0.9597\n",
      "Epoch 5/15\n",
      "60/60 [==============================] - 1s 9ms/step - loss: 0.1062 - accuracy: 0.9675\n",
      "Epoch 6/15\n",
      "60/60 [==============================] - 1s 9ms/step - loss: 0.0861 - accuracy: 0.9737\n",
      "Epoch 7/15\n",
      "60/60 [==============================] - 1s 9ms/step - loss: 0.0729 - accuracy: 0.9770\n",
      "Epoch 8/15\n",
      "60/60 [==============================] - 1s 9ms/step - loss: 0.0641 - accuracy: 0.9802\n",
      "Epoch 9/15\n",
      "60/60 [==============================] - 1s 9ms/step - loss: 0.0536 - accuracy: 0.9835\n",
      "Epoch 10/15\n",
      "60/60 [==============================] - 1s 9ms/step - loss: 0.0451 - accuracy: 0.9863\n",
      "Epoch 11/15\n",
      "60/60 [==============================] - 1s 9ms/step - loss: 0.0393 - accuracy: 0.9876\n",
      "Epoch 12/15\n",
      "60/60 [==============================] - 1s 9ms/step - loss: 0.0336 - accuracy: 0.9900\n",
      "Epoch 13/15\n",
      "60/60 [==============================] - 1s 10ms/step - loss: 0.0292 - accuracy: 0.9911\n",
      "Epoch 14/15\n",
      "60/60 [==============================] - 1s 10ms/step - loss: 0.0272 - accuracy: 0.9921\n",
      "Epoch 15/15\n",
      "60/60 [==============================] - 1s 10ms/step - loss: 0.0202 - accuracy: 0.9941\n"
     ]
    },
    {
     "data": {
      "text/plain": [
       "<keras.callbacks.History at 0x2e10f389c70>"
      ]
     },
     "execution_count": 14,
     "metadata": {},
     "output_type": "execute_result"
    }
   ],
   "source": [
    "#definition and training of the used model \n",
    "model = Sequential()\n",
    "\n",
    "model.add(Dense(200, activation=\"relu\", input_shape=(784,)))\n",
    "model.add(Dense(300, activation=\"relu\"))\n",
    "model.add(Dense(100, activation=\"relu\"))\n",
    "model.add(Dense(10))\n",
    "model.add(layers.Activation('softmax'))\n",
    "#model.add(Dense(10, activation=\"softmax\"))\n",
    "\n",
    "model.compile(optimizer=\"rmsprop\", loss=\"categorical_crossentropy\", metrics=[\"accuracy\"])\n",
    "\n",
    "model.summary()\n",
    "\n",
    "model.fit(\n",
    "    x_train,\n",
    "    y_train,\n",
    "    epochs=15,\n",
    "    batch_size=1000\n",
    ")"
   ]
  },
  {
   "cell_type": "code",
   "execution_count": 15,
   "id": "dba1fef0",
   "metadata": {},
   "outputs": [
    {
     "name": "stdout",
     "output_type": "stream",
     "text": [
      "313/313 [==============================] - 1s 1ms/step - loss: 0.0663 - accuracy: 0.9803\n"
     ]
    },
    {
     "data": {
      "text/plain": [
       "[0.06632150709629059, 0.9803000092506409]"
      ]
     },
     "execution_count": 15,
     "metadata": {},
     "output_type": "execute_result"
    }
   ],
   "source": [
    "#evaluation of the accuracy of the model \n",
    "model.evaluate(x_test, y_test)"
   ]
  },
  {
   "cell_type": "code",
   "execution_count": 16,
   "id": "e8bbd18d",
   "metadata": {},
   "outputs": [
    {
     "name": "stdout",
     "output_type": "stream",
     "text": [
      "1/1 [==============================] - 0s 32ms/step\n",
      "1/1 [==============================] - 0s 36ms/step\n",
      "1/1 [==============================] - 0s 38ms/step\n",
      "1/1 [==============================] - 0s 37ms/step\n",
      "10\n",
      "[-6.3046465 -3.8205454 -3.065783   7.162049  -4.396761  -1.8403825\n",
      " -5.9172797 -5.557784   2.576307  -3.1321795]\n"
     ]
    }
   ],
   "source": [
    "#storing the ouput of every layer of the model when inputting handwritten 3 \n",
    "from tensorflow.keras import Model\n",
    "import numpy as np\n",
    "\n",
    "layer_outputs = []\n",
    "for i in range(1, len(model.layers)):\n",
    "    tmp_model = Model(model.layers[0].input, model.layers[i].output)\n",
    "    tmp_output = tmp_model.predict(np.reshape(x_test[18], (1,784)))[0]\n",
    "    layer_outputs.append(tmp_output)\n",
    "\n",
    "#values of last Dense layer (without applying the softmax activation)    \n",
    "print(len(layer_outputs[2]))    \n",
    "print(layer_outputs[2])"
   ]
  },
  {
   "cell_type": "code",
   "execution_count": 17,
   "id": "f6f98aac",
   "metadata": {},
   "outputs": [
    {
     "name": "stdout",
     "output_type": "stream",
     "text": [
      "3.01e-02\n",
      "4.94e-02\n",
      "5.74e-02\n",
      "4.44e-01\n",
      "4.40e-02\n",
      "7.34e-02\n",
      "3.25e-02\n",
      "3.49e-02\n",
      "1.78e-01\n",
      "5.67e-02\n"
     ]
    }
   ],
   "source": [
    "#manually calculating the result of the trained network using different temperature values \n",
    "import math\n",
    "\n",
    "\n",
    "def softmax(input_vec, temperature):\n",
    "    sum_exp = sum(math.exp(x/temperature) for x in input_vec)\n",
    "    return [math.exp(x/temperature)/sum_exp for x in input_vec]\n",
    "\n",
    "temperature = 5\n",
    "output = softmax(layer_outputs[2], temperature) \n",
    "for num in output:\n",
    "    print(np.format_float_scientific(num, precision = 2))"
   ]
  }
 ],
 "metadata": {
  "kernelspec": {
   "display_name": "Python 3 (ipykernel)",
   "language": "python",
   "name": "python3"
  },
  "language_info": {
   "codemirror_mode": {
    "name": "ipython",
    "version": 3
   },
   "file_extension": ".py",
   "mimetype": "text/x-python",
   "name": "python",
   "nbconvert_exporter": "python",
   "pygments_lexer": "ipython3",
   "version": "3.9.13"
  }
 },
 "nbformat": 4,
 "nbformat_minor": 5
}
